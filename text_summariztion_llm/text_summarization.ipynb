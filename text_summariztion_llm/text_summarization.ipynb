{
 "cells": [
  {
   "cell_type": "code",
   "execution_count": 5,
   "metadata": {},
   "outputs": [
    {
     "data": {
      "text/plain": [
       "True"
      ]
     },
     "execution_count": 5,
     "metadata": {},
     "output_type": "execute_result"
    }
   ],
   "source": [
    "import os \n",
    "from dotenv import load_dotenv\n",
    "load_dotenv()"
   ]
  },
  {
   "cell_type": "code",
   "execution_count": 6,
   "metadata": {},
   "outputs": [],
   "source": [
    "from langchain_groq import ChatGroq\n",
    "groq_api = os.getenv(\"GROQ_API\")\n",
    "\n",
    "llm = ChatGroq(api_key=groq_api,model=\"llama-3.1-8b-instant\")\n"
   ]
  },
  {
   "cell_type": "code",
   "execution_count": 21,
   "metadata": {},
   "outputs": [],
   "source": [
    "from langchain.schema import(AIMessage,HumanMessage,SystemMessage)\n",
    "\n",
    "speech = \"\"\"]The demise of former Prime Minister Dr. Manmohan Singh ji has deeply pained our hearts. His passing is a tremendous loss for us as a nation. Coming to Bharat during the time of partition after losing so much, and achieving remarkable success in every field of life, is no ordinary feat. His life serves as a lesson for future generations on how to rise above hardships and challenges to reach great heights.\n",
    "\n",
    "He will always be remembered as a kind-hearted individual, a scholarly economist, and a leader dedicated to reforms. As an economist, he served the Government of Bharat in various capacities. During a challenging time, he played the role of the Governor of the Reserve Bank of India. As the Finance Minister in the government of former Prime Minister and Bharat Ratna Shri P.V. Narasimha Rao ji, he steered the country out of a financial crisis and paved the way for a new economic direction. His contributions as the Prime Minister towards the country’s development and progress will always be cherished.\n",
    "\n",
    "His commitment to the people and the nation’s development will forever be held in high regard. Dr. Manmohan Singh ji’s life was a reflection of honesty and simplicity. He was an extraordinary parliamentarian. His humility, gentleness, and intellect defined his parliamentary life. I remember mentioning earlier this year, when his tenure in the Rajya Sabha ended, that his dedication as a Member of Parliament is an inspiration to all. Even during crucial moments of parliamentary sessions, he would attend in a wheelchair and fulfil his parliamentary duties.\n",
    "\n",
    "Despite being educated at some of the world’s most prestigious institutions and holding numerous top positions in the government, he never forgot the values of his humble background. Rising above partisan politics, he always maintained connections with people across party lines and remained approachable to everyone. During my tenure as Chief Minister, I had open discussions with Dr. Manmohan Singh ji on various national and international issues. Even after coming to Delhi, I would frequently meet and converse with him. I will always remember our discussions about the country and our meetings. Recently, I spoke to him on his birthday.\"\"\""
   ]
  },
  {
   "cell_type": "code",
   "execution_count": 8,
   "metadata": {},
   "outputs": [
    {
     "name": "stderr",
     "output_type": "stream",
     "text": [
      "c:\\Users\\AKM\\Documents\\GenrativeAI\\Differen_applications\\venv\\Lib\\site-packages\\tqdm\\auto.py:21: TqdmWarning: IProgress not found. Please update jupyter and ipywidgets. See https://ipywidgets.readthedocs.io/en/stable/user_install.html\n",
      "  from .autonotebook import tqdm as notebook_tqdm\n"
     ]
    },
    {
     "data": {
      "text/plain": [
       "448"
      ]
     },
     "execution_count": 8,
     "metadata": {},
     "output_type": "execute_result"
    }
   ],
   "source": [
    "llm.get_num_tokens(speech)"
   ]
  },
  {
   "cell_type": "code",
   "execution_count": 9,
   "metadata": {},
   "outputs": [],
   "source": [
    "chat_message = [\n",
    "SystemMessage(\"you are an expert with experties of summarizing speeched\"),\n",
    "HumanMessage(f\"please provide me the summary of {speech} it should be short and consize \")\n",
    "]"
   ]
  },
  {
   "cell_type": "code",
   "execution_count": 10,
   "metadata": {},
   "outputs": [
    {
     "data": {
      "text/plain": [
       "AIMessage(content=\"Here's a concise summary:\\n\\nFormer Prime Minister Dr. Manmohan Singh's passing has caused immense pain and is a significant loss for the nation. Despite facing hardships, he achieved remarkable success in various fields. He will be remembered as a kind-hearted, scholarly economist, and dedicated leader who worked tirelessly for reforms. As the Governor of the Reserve Bank of India, Finance Minister, and Prime Minister, he steered the country through financial crises and paved the way for a new economic direction. His commitment to the nation's development, honesty, and simplicity will be cherished forever.\", additional_kwargs={}, response_metadata={'token_usage': {'completion_tokens': 116, 'prompt_tokens': 490, 'total_tokens': 606, 'completion_time': 0.154666667, 'prompt_time': 0.0332881, 'queue_time': 0.020590948999999997, 'total_time': 0.187954767}, 'model_name': 'llama-3.1-8b-instant', 'system_fingerprint': 'fp_9cb648b966', 'finish_reason': 'stop', 'logprobs': None}, id='run-9d62afa4-4dee-49f5-a74b-3172533b7f4b-0', usage_metadata={'input_tokens': 490, 'output_tokens': 116, 'total_tokens': 606})"
      ]
     },
     "execution_count": 10,
     "metadata": {},
     "output_type": "execute_result"
    }
   ],
   "source": [
    "## getting the summary very easy and first technique but will not work with large data\n",
    "llm.invoke(chat_message)"
   ]
  },
  {
   "cell_type": "markdown",
   "metadata": {},
   "source": [
    "## second soln => prompt template summarization"
   ]
  },
  {
   "cell_type": "code",
   "execution_count": 32,
   "metadata": {},
   "outputs": [
    {
     "data": {
      "text/plain": [
       "PromptTemplate(input_variables=['langauge', 'speech'], input_types={}, partial_variables={}, template='\\n\\nwrite a summary of the following speech:\\nspeech:{speech}\\nTranslate the precise summary to {langauge}\\n')"
      ]
     },
     "execution_count": 32,
     "metadata": {},
     "output_type": "execute_result"
    }
   ],
   "source": [
    "from langchain.chains import LLMChain ## whenever we combine prompt tamplate with llm i.e is llmchain\n",
    "from langchain_core.prompts import PromptTemplate\n",
    "\n",
    "generic_prompt = \"\"\"\n",
    "\n",
    "write a summary of the following speech:\n",
    "speech:{speech}\n",
    "Translate the precise summary to {langauge}\n",
    "\"\"\"\n",
    "prompt = PromptTemplate(\n",
    "    input_variables=[\"speech\",\"langauge\"],\n",
    "    template = generic_prompt\n",
    ")\n",
    "prompt"
   ]
  },
  {
   "cell_type": "code",
   "execution_count": 28,
   "metadata": {},
   "outputs": [],
   "source": [
    "chain = LLMChain(llm=llm,prompt=prompt)\n",
    "summary = chain.invoke({\"speech\":speech,\"langauge\":\"Marathi\"})\n"
   ]
  },
  {
   "cell_type": "markdown",
   "metadata": {},
   "source": [
    "## StuffDoc chain text summarization"
   ]
  },
  {
   "cell_type": "code",
   "execution_count": 33,
   "metadata": {},
   "outputs": [],
   "source": [
    "from langchain_community.document_loaders import PyPDFLoader\n",
    "\n",
    "loader = PyPDFLoader(\"AdityaMoreINT354 (2).pdf\")\n",
    "document = loader.load_and_split()"
   ]
  },
  {
   "cell_type": "code",
   "execution_count": 34,
   "metadata": {},
   "outputs": [
    {
     "data": {
      "text/plain": [
       "[Document(metadata={'source': 'AdityaMoreINT354 (2).pdf', 'page': 0}, page_content='Sentiment Analysis for Effective Stock Market Prediction \\nAditya More \\n \\n1Department of Computer Science and Engineering, Lovely Professional University,   \\nPunjab, India \\n \\n \\nAbstract: We analyze the impact of sentiment and attention variables on the stock market volatility by using a \\nnovel and extensive dataset that combines social media, news articles, information consumption, and search engine \\ndata. We apply a state-of-the art sentiment classification technique in order to investigate the question of whether \\nsentiment and attention measures contain additional predictive power for realized volatility when controlling for a \\nwide range of economic and financial predictors. Using a penalized regression framework, we identify th e most \\nrelevant variables to be investors’ attention, as measured by the number of Google searches on financial keywords \\n(e.g. ‘‘financial market’’ and ‘‘stock market’’), and the daily volume of company -specific short messages posted \\non Stock Twits. In addition, our study shows that attention and sentiment variables are able to improve volatility \\nforecasts significantly, although the magnitudes of the improvements are relatively small from an economic point \\nof view. \\nKeywords: Machine learning, Sentiments Analysis, Stock market. \\n \\nIntroduction \\nAll Stock prediction is a challenging problem in the \\nfield of finance as well as engineering and \\nmathematics. Due to its financial gain, it has attracted \\nmuch attention both from academic side and business \\nside. Stock price prediction has always been a subject \\nof interest for most investors and  financial analysts. \\nNevertheless, finding the best time to buy or sell has \\nremained a very difficult task for investors because \\nthere are other numerous factors that may influence \\nstock prices. In the prediction of stock market analysis \\na new novel approach is proposed to predict the buy or \\nsell signal to the investors. Based on the combined \\nresult of opinion of sentences \\nSentiment classification has become a very \\npopular task in Machine Learning processing area, \\nwhich tries to predict sentiment (opinion, emotion, \\netc.) from texts. \\nToday people are placing their comments and \\nopinions on social media which can be shared by \\nothers also. Sentiment classification could be done \\nin word/phrase level, sentence level and document \\nlevel. Sentiment analysis has now become the \\ndominant approach used for extracting sentiment \\nand appraisals from online sources. Subjectivity  \\n \\n \\n \\n \\nanalysis focuses on dividing language units into \\ntwo categories: objective and subjective, whereas \\nsentiment analysis attempts to divide the language \\nunits into three categories; negative, positive, and \\nneutral. \\nMethodology \\nData Collection  \\n \\nThe Dataset used for news sentiment was sourced \\nfrom Kaggle. The datasets consists of Twenty Seven \\ncolumns and 4100 rows. It having \\nTwenty Five columns for top news of that day and    \\nother 2 column are date,  labels(My graph is going \\nupward or downward) and Stock data is of  Dow \\nJones Industrial. \\n \\nPreprocessing \\n \\nWe used here some techniques to remove \\npunctuation marks, to change text to  \\nlower, combining 25 columns text together (so that \\ncan perform bag of word techniques or Feature \\nExtraction ),we split dataset into Train, Test after this \\nall we applied feature extraction technique called \\nCount Vectorizer use to convert text to vectors \\n \\nAditya More \\nadityamore49891@gmail.com'),\n",
       " Document(metadata={'source': 'AdityaMoreINT354 (2).pdf', 'page': 1}, page_content='Model Training \\n For training Model here we used many Machine \\nLearning Algorithms like RandomForest, Decision Tree  \\nSVM(Support Vector Machine), Xgboost, Voting \\nEnsemble, Naïve Bayes. Each algorithm was trained on \\nthe training subset of the dataset using the extracted \\nfeatures, Hyperparameter tunning. \\n \\nModel Evaluation \\n The Trained models were evaluated on the test \\ntest to assess their performance in accurately classifying \\nstock position. Evaluation metrices such as accuracy, \\nconfusion matrix, classification report. \\n \\nAccuracy: \\n \\naccuracy = (number of correct predictions) / (total \\nnumber of predictions) \\n \\nRecall: \\n \\nPrecession \\n \\nF1 Score: \\n \\n \\n \\nResult and Discussion \\n \\nDataset \\nThe Dataset used for news sentiment was sourced \\nfrom Kaggle. The datasets consists of Twenty Seven \\ncolumns and 4100 rows. It is having Twenty Five \\ncolumns for top news of that day and    other 2 column \\nare date, labels(My graph is going upward or \\ndownward) and Stock data is of  Dow Jones \\nIndustrial. \\n \\nQuantitative Results \\n The performance of Machine Learning \\nalgorithms namely RandomForest, Decision Tree  \\nSVM(Support Vector Machine), Xgboost, Voting \\nEnsemble, Naïve Bayes was evaluate by stock market \\ntrend prediction from news sentiment tasks using a \\ndataset sourced from Kaggle. After training and  \\nTraining and testing the models on the datasets \\n \\nAditya More \\nadityamore4989@gmail.com \\nSource Code: Code and Dataset \\nThe following metrices obtained are: \\n \\n \\nClassification report \\n \\nFor 0 MNB RFC \\n \\nXGB DT LR VEC \\nPrecision 0.74 0.72 0.74 0.84 0.85 0.85 \\nRecall 0.93 0.96 0.93 0.84 0.79 0.79 \\nF1-Score 0.83 0.82 0.83 0.84 0.82 0.82 \\n \\n \\n \\nFor 1 MNB RFC \\n \\nXGB DT LR VEC \\nPrecision 0.95 0.97 0.95 0.84 0.78 0.79 \\nRecall 0.79 0.78 0.79 0.85 0.85 0.84 \\nF1-Score 0.86 0.87 0.86 0.84 0.83 0.81 \\n \\n \\nAccuracy \\n \\n MNB RFC \\n \\nXGB DT LR VEC \\nAccuracy 84.65 84.92 85.44 84.12 84.02 84.74 \\n \\n \\nConfusion Matrix: \\n \\n \\n MNB RFC \\n \\nXGB DT LR VEC \\nTT 138 134 138 157 159 158 \\nTF 10 5 10 31 40 41 \\nFT 48 52 48 29 28 28 \\nFF 182 187 182 161 151 151 \\n \\n   Conclusion :  \\n \\nUnlike the conventional stock market prediction  \\nsystems our novel approach combines the sentiments of \\ncommon people through the news feeds and Sensex data \\nto predict the behavior of  stock market. The  news feed'),\n",
       " Document(metadata={'source': 'AdityaMoreINT354 (2).pdf', 'page': 2}, page_content='of the stock related news are obtained for  company and \\nsentiment polarity of the news sentences are calculated \\nfor the prediction of stock news, whether  it is positive, \\nnegative or neutral. The moving average stock level \\nindicator is used to calculate the  Sensex points for the \\nstock market. Finally combination of sentiment polarity \\nnews and the Sensex points provide an efficient result \\nto the stock market forecasters when to buy or sell their \\nstocks. \\n \\nReferences : \\n \\n1. P.Robert, Schumaker, and H.Chen, “Textual \\nAnalysis of Stock Market Prediction Using \\nBreaking Financial News: The AZF in Text \\nSystem”, ACM Transactions on Information \\nSystems, Vol. 27, No. 2, pp. 1- 20, 2009. \\n2. W. Huang, K. K. Lai, Y.Nakamori, S. Wang, L.  \\nYu, “Neural Networks in Finance and Economics \\nForecasting”, International Journal  of \\nInformation Technology & Decision Making, Vol. \\n6, No. 1, pp.113–140, 2007. \\n3. T. Wilson, J. Wiebe, and P. Hoffmann, \\n“Recognizing Contextual Polarity: An \\nExploration of Features for Phrase- Level \\nSentiment Analysis”, Computational \\nLinguistics”, Vol. 35, No. 3, pp. 399-433, 2009. \\n4. Kaggle : - \\nhttps://www.kaggle.com/datasets/aar\\non7sun/stocknews \\n5. The Journal of finance and data science : -  \\nhttps://www.sciencedirect.com/journal/the-\\njournal-of-finance-and-data-science')]"
      ]
     },
     "execution_count": 34,
     "metadata": {},
     "output_type": "execute_result"
    }
   ],
   "source": [
    "document"
   ]
  },
  {
   "cell_type": "code",
   "execution_count": 35,
   "metadata": {},
   "outputs": [],
   "source": [
    "template = \"\"\"\n",
    "\n",
    "Write a concise and short summary of the following speech,\n",
    "speech:{text}\n",
    "\"\"\"\n",
    "prompt = PromptTemplate(input_variables=[\"text\"],template=template)"
   ]
  },
  {
   "cell_type": "code",
   "execution_count": 43,
   "metadata": {},
   "outputs": [],
   "source": [
    "from langchain.chains.summarize import load_summarize_chain\n",
    "\n",
    "chain = load_summarize_chain(llm,chain_type=\"stuff\",prompt=prompt)"
   ]
  },
  {
   "cell_type": "code",
   "execution_count": 44,
   "metadata": {},
   "outputs": [],
   "source": [
    "output = chain.run(document)"
   ]
  },
  {
   "cell_type": "code",
   "execution_count": 45,
   "metadata": {},
   "outputs": [
    {
     "data": {
      "text/plain": [
       "'Here\\'s a concise and short summary of the speech \"Sentiment Analysis for Effective Stock Market Prediction\" by Aditya More:\\n\\nThe speech discusses a novel approach to stock market prediction using sentiment analysis and machine learning algorithms. The approach combines social media, news articles, and search engine data to analyze sentiment and attention variables that impact stock market volatility. The study uses a dataset sourced from Kaggle and applies various machine learning algorithms, including random forest, decision tree, SVM, Xgboost, voting ensemble, and Naïve Bayes. The results show that attention and sentiment variables can improve volatility forecasts, although the improvements are relatively small. The study concludes that combining sentiment polarity with Sensex points provides an efficient result for stock market forecasters, allowing them to determine when to buy or sell stocks.'"
      ]
     },
     "execution_count": 45,
     "metadata": {},
     "output_type": "execute_result"
    }
   ],
   "source": [
    "output"
   ]
  },
  {
   "cell_type": "markdown",
   "metadata": {},
   "source": [
    "## map reduce \n"
   ]
  },
  {
   "cell_type": "code",
   "execution_count": 46,
   "metadata": {},
   "outputs": [],
   "source": [
    "from  langchain_text_splitters import RecursiveCharacterTextSplitter\n",
    "split = RecursiveCharacterTextSplitter(chunk_size=400,chunk_overlap=100)\n",
    "doc = split.split_documents(document)"
   ]
  },
  {
   "cell_type": "code",
   "execution_count": 50,
   "metadata": {},
   "outputs": [],
   "source": [
    "chunk_prompt = \"\"\"\n",
    "please summarize the bello text:\n",
    "text: {text}\n",
    "summary:\n",
    "\"\"\"\n",
    "\n",
    "map_prompt_temp = PromptTemplate(input_variables=[\"text\"],template=chunk_prompt)"
   ]
  },
  {
   "cell_type": "code",
   "execution_count": 48,
   "metadata": {},
   "outputs": [],
   "source": [
    "final_prompt = \"combine all the chunks and give me the summary. it shout be short and consie here is the text:{text}\"\n",
    "map_final_template = PromptTemplate(input_variables=[\"text\"],template=final_prompt)"
   ]
  },
  {
   "cell_type": "code",
   "execution_count": 51,
   "metadata": {},
   "outputs": [],
   "source": [
    "summa = load_summarize_chain(llm,chain_type=\"map_reduce\",map_prompt=map_prompt_temp,combine_prompt=map_final_template)"
   ]
  },
  {
   "cell_type": "code",
   "execution_count": 52,
   "metadata": {},
   "outputs": [
    {
     "name": "stderr",
     "output_type": "stream",
     "text": [
      "Token indices sequence length is longer than the specified maximum sequence length for this model (3079 > 1024). Running this sequence through the model will result in indexing errors\n"
     ]
    },
    {
     "data": {
      "text/plain": [
       "'Here\\'s a short and concise summary:\\n\\nThe journal \"The Journal of Finance and Data Science\" focuses on the intersection of finance and data science, publishing research on topics like stock market prediction, financial modeling, and machine learning. A research paper titled \"Sentiment Analysis for Effective Stock Market Prediction\" demonstrates the potential of using sentiment analysis and machine learning algorithms, such as RandomForest and SVM, to improve stock market forecasts, but notes that improvements are relatively small from an economic perspective.'"
      ]
     },
     "execution_count": 52,
     "metadata": {},
     "output_type": "execute_result"
    }
   ],
   "source": [
    "summa.run(doc)"
   ]
  },
  {
   "cell_type": "code",
   "execution_count": null,
   "metadata": {},
   "outputs": [],
   "source": []
  }
 ],
 "metadata": {
  "kernelspec": {
   "display_name": "venv",
   "language": "python",
   "name": "python3"
  },
  "language_info": {
   "codemirror_mode": {
    "name": "ipython",
    "version": 3
   },
   "file_extension": ".py",
   "mimetype": "text/x-python",
   "name": "python",
   "nbconvert_exporter": "python",
   "pygments_lexer": "ipython3",
   "version": "3.11.0"
  }
 },
 "nbformat": 4,
 "nbformat_minor": 2
}
